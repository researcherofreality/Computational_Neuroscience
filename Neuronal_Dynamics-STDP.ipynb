{
 "cells": [
  {
   "cell_type": "markdown",
   "metadata": {},
   "source": [
    "# Spike-timing dependent plasticity\n",
    "\n",
    "Spike-timing dependent plasticity has a number of interesting and not entirely obvious effects when we include it into the dynamics of a neural network. \n",
    "\n",
    "We test some of these effects in one of the simplest possible networks: one (leaky integrate-and-fire) neuron receiving input from $N$ \"neurons\" modelled as emitting spikes as a Poisson process (essentially at random times with a fixed firing rate). "
   ]
  },
  {
   "cell_type": "markdown",
   "metadata": {},
   "source": [
    "The synapse from the input neurons to the output neuron has conductance that decays exponentially (with time constant $\\tau_e$) after each spike. \n",
    "Its efficacy changes according to a STDP rule.\n",
    "\n",
    "We follow the treatment in the paper by Song et al. [Competitive Hebbian learning through spike-timing-dependent synaptic plasticity](https://www.nature.com/articles/nn0900_919) and we make the STDP curve asymmetric, so that the area under the curve for the \"depressing\" part of the curve ($\\tau_{pre} - \\tau_{post} > 0$) is greater then the potentiating part ($\\tau_{pre} - \\tau_{post} < 0$). Synapses are initialized at random values\n",
    "\n",
    "The result will be that most synapses will be depressed at the beginning (because relative spike times are equally likely to fall in the depressing than in the potentiating part of the plasticity curve, and the depressing effect is stronger under these circumstances. (Look at Song et al. Figure 3)\n",
    "\n",
    "Only the few synapses that are stronger, for which the input is more likely to drive the output neuron, the post-synaptic neuron will tend to follow the pre-synaptic spike and we get a potentiation. As a result, there is a partition of synapses between a group that gets very high values of conductance, and the others that will go towards zero. \n",
    "\n",
    "The other effect is that the neuron gets in a state in which the excitatory (synaptic) current and the leakage current are balanced, and the neuron is driven by fluctuations. "
   ]
  },
  {
   "cell_type": "code",
   "execution_count": 3,
   "metadata": {},
   "outputs": [],
   "source": [
    "from brian2 import *\n",
    "import numpy as np"
   ]
  },
  {
   "cell_type": "markdown",
   "metadata": {},
   "source": [
    "## setting the parameters"
   ]
  },
  {
   "cell_type": "code",
   "execution_count": 4,
   "metadata": {},
   "outputs": [],
   "source": [
    "# this parameter determines the relative area-under-the-curve for depression vs potentiation in the STDP curve \n",
    "# (1 is perfect balance)\n",
    "inhibition_excess = 1.05\n",
    "\n",
    "# number of input \"neurons\" (random Poisson spike trains)\n",
    "N = 1000\n",
    "\n",
    "#membrane time constant for the output neuron\n",
    "taum = 10*ms\n",
    "\n",
    "# Time constants for the potentiation (pre) and depression (post) parts of the STDP curve\n",
    "taupre = 20*ms\n",
    "taupost = taupre\n",
    "\n",
    "# excitatory reversal potential\n",
    "Ee = 0*mV\n",
    "\n",
    "# threshold for the integrate-and-fire neuron\n",
    "vt = -54*mV\n",
    "\n",
    "# resting potential\n",
    "vr = -60*mV\n",
    "\n",
    "# leakage reversal potential \n",
    "El = -74*mV\n",
    "\n",
    "# synaptic time constant \n",
    "taue = 5*ms\n",
    "\n",
    "# input mean firing rate \n",
    "F = 15*Hz\n",
    "\n",
    "# maximal synaptic conductance \n",
    "gmax = .01\n",
    "\n",
    "# the synaptic increment after each spike \n",
    "syn_increment = .01\n",
    "\n",
    "dApre = None\n",
    "dApsot = None\n"
   ]
  },
  {
   "cell_type": "markdown",
   "metadata": {},
   "source": [
    "## Defining the model"
   ]
  },
  {
   "cell_type": "code",
   "execution_count": 5,
   "metadata": {},
   "outputs": [],
   "source": [
    "class STDP_model:\n",
    "    def __init__(self):\n",
    "\n",
    "        global dApre, dApost\n",
    "        # integrate and fire equations for the output neuron (including synaptic current decay)\n",
    "        eqs_neurons = '''\n",
    "        dv/dt = (ge * (Ee-vr) + El - v) / taum : volt\n",
    "        dge/dt = -ge / taue : 1\n",
    "        '''\n",
    "        dApre = syn_increment\n",
    "        dApost = -dApre * taupre / taupost * inhibition_excess\n",
    "        dApost *= gmax\n",
    "        dApre *= gmax\n",
    "        \n",
    "        \n",
    "        self.net = Network()\n",
    "        self.input = PoissonGroup(N, rates=F)\n",
    "        self.net.add(self.input)\n",
    "        self.neurons = NeuronGroup(1, eqs_neurons, threshold='v>vt', reset='v = vr',\n",
    "                              method='exact')\n",
    "        self.net.add(self.neurons)\n",
    "        # equations for the synapses\n",
    "        self.S = Synapses(self.input, self.neurons,\n",
    "                     '''w : 1\n",
    "                        dApre/dt = -Apre / taupre : 1 (event-driven)\n",
    "                        dApost/dt = -Apost / taupost : 1 (event-driven)''',\n",
    "                     on_pre='''ge += w\n",
    "                            Apre += dApre\n",
    "                            w = clip(w + Apost, 0, gmax)''',\n",
    "                     on_post='''Apost += dApost\n",
    "                             w = clip(w + Apre, 0, gmax)''',\n",
    "                     )\n",
    "        self.net.add(self.S)\n",
    "        self.S.connect()\n",
    "\n",
    "        # synapses are initialized to a random value between 0 and gmax\n",
    "        self.S.w = 'rand() * gmax'\n",
    "        self.mon = StateMonitor(self.S, 'w', record=[0, 1, 2, 3])\n",
    "        self.net.add(self.mon)\n",
    "        self.s_mon = SpikeMonitor(self.input)\n",
    "        self.net.add(self.s_mon)\n",
    "        \n",
    "        \n",
    "    def output_monitor(self):\n",
    "        self.o_mon = SpikeMonitor(self.neurons)\n",
    "        self.net.add(self.o_mon)\n",
    "        return self.o_mon\n",
    "    \n",
    "    def run(self, run_time):\n",
    "        self.net.run(run_time, report='text')\n",
    "        "
   ]
  },
  {
   "cell_type": "markdown",
   "metadata": {},
   "source": [
    "## Running the model \n",
    "\n",
    "These simulations will take some minutes to run (on my laptop around 3 seconds for each second of simulated time. Please be patients and grab a cup of coffee while each run executes "
   ]
  },
  {
   "cell_type": "markdown",
   "metadata": {},
   "source": [
    "### Varying the input rate \n",
    "\n",
    "in this simulation, we will run the network with different input firing rates, from 10 to 40 Hz. We will reproduce the result from the Song et al. paper, Figure 2a-c. (Ignore the warnings if you get any)"
   ]
  },
  {
   "cell_type": "code",
   "execution_count": 6,
   "metadata": {},
   "outputs": [
    {
     "name": "stdout",
     "output_type": "stream",
     "text": [
      "Starting simulation at t=0. s for a duration of 100. s\n",
      "13.9626 s (13%) simulated in 10s, estimated 1m 2s remaining.\n",
      "27.7947 s (27%) simulated in 20s, estimated 52s remaining.\n",
      "40.6913 s (40%) simulated in 30s, estimated 44s remaining.\n",
      "53.8913 s (53%) simulated in 40s, estimated 34s remaining.\n",
      "67.6181 s (67%) simulated in 50s, estimated 24s remaining.\n",
      "81.373 s (81%) simulated in 1m 0s, estimated 14s remaining.\n",
      "95.4953 s (95%) simulated in 1m 10s, estimated 3s remaining.\n",
      "100. s (100%) simulated in 1m 13s\n",
      "Starting simulation at t=0. s for a duration of 100. s\n",
      "12.9416 s (12%) simulated in 10s, estimated 1m 7s remaining.\n",
      "25.7823 s (25%) simulated in 20s, estimated 58s remaining.\n",
      "39.1986 s (39%) simulated in 30s, estimated 47s remaining.\n",
      "52.7541 s (52%) simulated in 40s, estimated 36s remaining.\n",
      "65.6971 s (65%) simulated in 50s, estimated 26s remaining.\n",
      "78.5448 s (78%) simulated in 1m 0s, estimated 16s remaining.\n",
      "92.1106 s (92%) simulated in 1m 10s, estimated 6s remaining.\n",
      "100. s (100%) simulated in 1m 15s\n",
      "Starting simulation at t=0. s for a duration of 100. s\n",
      "12.8026 s (12%) simulated in 10s, estimated 1m 8s remaining.\n",
      "25.2443 s (25%) simulated in 20s, estimated 59s remaining.\n",
      "37.6105 s (37%) simulated in 30s, estimated 50s remaining.\n",
      "50.732 s (50%) simulated in 40s, estimated 39s remaining.\n",
      "63.7976 s (63%) simulated in 50s, estimated 28s remaining.\n",
      "76.8969 s (76%) simulated in 1m 0s, estimated 18s remaining.\n",
      "89.9428 s (89%) simulated in 1m 10s, estimated 8s remaining.\n",
      "100. s (100%) simulated in 1m 17s\n",
      "Starting simulation at t=0. s for a duration of 100. s\n",
      "13.2023 s (13%) simulated in 10s, estimated 1m 6s remaining.\n",
      "26.5793 s (26%) simulated in 20s, estimated 55s remaining.\n",
      "39.7115 s (39%) simulated in 30s, estimated 46s remaining.\n",
      "52.8423 s (52%) simulated in 40s, estimated 36s remaining.\n",
      "65.7609 s (65%) simulated in 50s, estimated 26s remaining.\n",
      "78.1412 s (78%) simulated in 1m 0s, estimated 17s remaining.\n",
      "90.9402 s (90%) simulated in 1m 10s, estimated 7s remaining.\n",
      "100. s (100%) simulated in 1m 17s\n",
      "Starting simulation at t=0. s for a duration of 100. s\n",
      "12.5504 s (12%) simulated in 10s, estimated 1m 10s remaining.\n",
      "25.4851 s (25%) simulated in 20s, estimated 58s remaining.\n",
      "38.4503 s (38%) simulated in 30s, estimated 48s remaining.\n",
      "50.783 s (50%) simulated in 40s, estimated 39s remaining.\n",
      "63.2049 s (63%) simulated in 50s, estimated 29s remaining.\n",
      "75.7015 s (75%) simulated in 1m 0s, estimated 19s remaining.\n",
      "88.3636 s (88%) simulated in 1m 10s, estimated 9s remaining.\n",
      "100. s (100%) simulated in 1m 19s\n",
      "Starting simulation at t=0. s for a duration of 100. s\n",
      "12.9801 s (12%) simulated in 10s, estimated 1m 7s remaining.\n",
      "25.8355 s (25%) simulated in 20s, estimated 57s remaining.\n",
      "38.6783 s (38%) simulated in 30s, estimated 48s remaining.\n",
      "51.571 s (51%) simulated in 40s, estimated 38s remaining.\n",
      "64.8047 s (64%) simulated in 50s, estimated 27s remaining.\n",
      "78.0253 s (78%) simulated in 1m 0s, estimated 17s remaining.\n",
      "90.8461 s (90%) simulated in 1m 10s, estimated 7s remaining.\n",
      "100. s (100%) simulated in 1m 17s\n",
      "Starting simulation at t=0. s for a duration of 100. s\n",
      "12.3424 s (12%) simulated in 10s, estimated 1m 11s remaining.\n",
      "25.5649 s (25%) simulated in 20s, estimated 58s remaining.\n",
      "39.028 s (39%) simulated in 30s, estimated 47s remaining.\n",
      "51.6976 s (51%) simulated in 40s, estimated 37s remaining.\n",
      "63.8099 s (63%) simulated in 50s, estimated 28s remaining.\n",
      "76.3491 s (76%) simulated in 1m 0s, estimated 19s remaining.\n",
      "89.0897 s (89%) simulated in 1m 10s, estimated 9s remaining.\n",
      "100. s (100%) simulated in 1m 18s\n"
     ]
    }
   ],
   "source": [
    "out_rates = []\n",
    "w_matrices = []\n",
    "firing_rates = np.arange(10, 41, 5)\n",
    "for F in [f*Hz for f in firing_rates]:\n",
    "    # if we want to change some of the parameters from the default values, we have to do it here below\n",
    "    inhibition_excess = 1.05\n",
    "    \n",
    "    model = STDP_model()\n",
    "    \n",
    "    model.S.w = 'rand() * gmax'\n",
    "    o_mon = model.output_monitor()\n",
    "    model.run(100*second)\n",
    "    device.build(directory='STDP_standalone', compile=True, run=True, debug=False)\n",
    "    out_rates.append(o_mon.count[0])\n",
    "    w_matrices.append(model.S.w[:])\n",
    "\n",
    "out_rates = np.array(out_rates)"
   ]
  },
  {
   "cell_type": "markdown",
   "metadata": {},
   "source": [
    "let's plot the output firing rate as a function of the input firing rate. Similar to Song et al. (Figure 2c) the output activity increases only weakly when the firing rate increases (note that the plot is not exactly the same as in the paper, because the model parameters are slightly different, so that we can see the main effects in shorter simulations) "
   ]
  },
  {
   "cell_type": "code",
   "execution_count": 7,
   "metadata": {},
   "outputs": [
    {
     "data": {
      "text/plain": [
       "Text(0, 0.5, 'Output firing rate (Hz)')"
      ]
     },
     "execution_count": 7,
     "metadata": {},
     "output_type": "execute_result"
    },
    {
     "data": {
      "image/png": "[encoded data removed]",
      "text/plain": [
       "<Figure size 432x288 with 1 Axes>"
      ]
     },
     "metadata": {
      "needs_background": "light"
     },
     "output_type": "display_data"
    }
   ],
   "source": [
    "plot(firing_rates, out_rates/100)\n",
    "xlabel(\"Input firing rate (Hz)\")\n",
    "ylabel(\"Output firing rate (Hz)\")"
   ]
  },
  {
   "cell_type": "markdown",
   "metadata": {},
   "source": [
    "Now let's look at the distribution of the synaptic weights, for each of the runs (change run_no to look at the result for different firing rates)"
   ]
  },
  {
   "cell_type": "code",
   "execution_count": 17,
   "metadata": {},
   "outputs": [
    {
     "data": {
      "image/png": "[encoded data removed]",
      "text/plain": [
       "<Figure size 432x288 with 2 Axes>"
      ]
     },
     "metadata": {
      "needs_background": "light"
     },
     "output_type": "display_data"
    }
   ],
   "source": [
    "run_no = 6\n",
    "\n",
    "subplot(211)\n",
    "title(\"Firing rate: \" + str(firing_rates[run_no]) + \" Hz\")\n",
    "plot(w_matrices[run_no] / gmax, '.k')\n",
    "ylabel('Weight / gmax')\n",
    "xlabel('Synapse index')\n",
    "subplot(212)\n",
    "hist(w_matrices[run_no] / gmax, 20)\n",
    "xlabel('Weight / gmax')\n",
    "\n",
    "tight_layout()\n",
    "show()"
   ]
  }
 ],
 "metadata": {
  "kernelspec": {
   "display_name": "Python 3",
   "language": "python",
   "name": "python3"
  },
  "language_info": {
   "codemirror_mode": {
    "name": "ipython",
    "version": 3
   },
   "file_extension": ".py",
   "mimetype": "text/x-python",
   "name": "python",
   "nbconvert_exporter": "python",
   "pygments_lexer": "ipython3",
   "version": "3.8.5"
  }
 },
 "nbformat": 4,
 "nbformat_minor": 4
}
